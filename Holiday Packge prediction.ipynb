{
 "cells": [
  {
   "cell_type": "markdown",
   "id": "3cf1fcc2-ae12-4b25-9508-3a5022722686",
   "metadata": {},
   "source": [
    "# Holiday Package Prediction"
   ]
  },
  {
   "cell_type": "markdown",
   "id": "9db04f24-16d2-46a7-a885-3fbf92c6b9ca",
   "metadata": {},
   "source": [
    "## About Dataset\n",
    "### Context\n",
    "\"Trips & Travel.Com\" company wants to enable and establish a viable business model to expand the customer base. One of the ways to expand the customer base is to introduce a new offering of packages. Currently, there are 5 types of packages the company is offering - Basic, Standard, Deluxe, Super Deluxe, King. Looking at the data of the last year, we observed that 18% of the customers purchased the packages. However, the marketing cost was quite high because customers were contacted at random without looking at the available information. The company is now planning to launch a new product i.e. Wellness Tourism Package. Wellness Tourism is defined as Travel that allows the traveler to maintain, enhance or kick-start a healthy lifestyle, and support or increase one's sense of well-being. However, this time company wants to harness the available data of existing and potential customers to make the marketing expenditure more efficient.\n",
    "\n",
    "kaggle dataset:https://www.kaggle.com/datasets/susant4learning/holiday-package-purchase-prediction"
   ]
  },
  {
   "cell_type": "code",
   "execution_count": 45,
   "id": "e75f10a9-77cf-4f3c-ab57-24ef0fa22d9f",
   "metadata": {},
   "outputs": [],
   "source": [
    "import pandas as pd\n",
    "import numpy as np\n",
    "import matplotlib.pyplot as plt\n",
    "%matplotlib inline\n",
    "import seaborn as sns\n",
    "import warnings\n",
    "warnings.filterwarnings(\"ignore\")"
   ]
  },
  {
   "cell_type": "code",
   "execution_count": 46,
   "id": "91f444e6-172e-4b74-b826-66d125b89ba7",
   "metadata": {},
   "outputs": [],
   "source": [
    "df = pd.read_csv(\"Travel.csv\")"
   ]
  },
  {
   "cell_type": "code",
   "execution_count": 47,
   "id": "ab662c1a-de8e-43ce-9fb8-2d60db23fab4",
   "metadata": {},
   "outputs": [
    {
     "name": "stdout",
     "output_type": "stream",
     "text": [
      "The dataset consists of 4888 rows and 20 columns.\n"
     ]
    }
   ],
   "source": [
    "df.shape\n",
    "print(\"The dataset consists of \" + str(df.shape[0]) + \" rows and \" + str(df.shape[1]) + \" columns.\")"
   ]
  },
  {
   "cell_type": "code",
   "execution_count": 48,
   "id": "605de72b-9c3b-493a-8645-1272d5d3519d",
   "metadata": {},
   "outputs": [
    {
     "data": {
      "text/html": [
       "<div>\n",
       "<style scoped>\n",
       "    .dataframe tbody tr th:only-of-type {\n",
       "        vertical-align: middle;\n",
       "    }\n",
       "\n",
       "    .dataframe tbody tr th {\n",
       "        vertical-align: top;\n",
       "    }\n",
       "\n",
       "    .dataframe thead th {\n",
       "        text-align: right;\n",
       "    }\n",
       "</style>\n",
       "<table border=\"1\" class=\"dataframe\">\n",
       "  <thead>\n",
       "    <tr style=\"text-align: right;\">\n",
       "      <th></th>\n",
       "      <th>CustomerID</th>\n",
       "      <th>ProdTaken</th>\n",
       "      <th>Age</th>\n",
       "      <th>TypeofContact</th>\n",
       "      <th>CityTier</th>\n",
       "      <th>DurationOfPitch</th>\n",
       "      <th>Occupation</th>\n",
       "      <th>Gender</th>\n",
       "      <th>NumberOfPersonVisiting</th>\n",
       "      <th>NumberOfFollowups</th>\n",
       "      <th>ProductPitched</th>\n",
       "      <th>PreferredPropertyStar</th>\n",
       "      <th>MaritalStatus</th>\n",
       "      <th>NumberOfTrips</th>\n",
       "      <th>Passport</th>\n",
       "      <th>PitchSatisfactionScore</th>\n",
       "      <th>OwnCar</th>\n",
       "      <th>NumberOfChildrenVisiting</th>\n",
       "      <th>Designation</th>\n",
       "      <th>MonthlyIncome</th>\n",
       "    </tr>\n",
       "  </thead>\n",
       "  <tbody>\n",
       "    <tr>\n",
       "      <th>0</th>\n",
       "      <td>200000</td>\n",
       "      <td>1</td>\n",
       "      <td>41.0</td>\n",
       "      <td>Self Enquiry</td>\n",
       "      <td>3</td>\n",
       "      <td>6.0</td>\n",
       "      <td>Salaried</td>\n",
       "      <td>Female</td>\n",
       "      <td>3</td>\n",
       "      <td>3.0</td>\n",
       "      <td>Deluxe</td>\n",
       "      <td>3.0</td>\n",
       "      <td>Single</td>\n",
       "      <td>1.0</td>\n",
       "      <td>1</td>\n",
       "      <td>2</td>\n",
       "      <td>1</td>\n",
       "      <td>0.0</td>\n",
       "      <td>Manager</td>\n",
       "      <td>20993.0</td>\n",
       "    </tr>\n",
       "    <tr>\n",
       "      <th>1</th>\n",
       "      <td>200001</td>\n",
       "      <td>0</td>\n",
       "      <td>49.0</td>\n",
       "      <td>Company Invited</td>\n",
       "      <td>1</td>\n",
       "      <td>14.0</td>\n",
       "      <td>Salaried</td>\n",
       "      <td>Male</td>\n",
       "      <td>3</td>\n",
       "      <td>4.0</td>\n",
       "      <td>Deluxe</td>\n",
       "      <td>4.0</td>\n",
       "      <td>Divorced</td>\n",
       "      <td>2.0</td>\n",
       "      <td>0</td>\n",
       "      <td>3</td>\n",
       "      <td>1</td>\n",
       "      <td>2.0</td>\n",
       "      <td>Manager</td>\n",
       "      <td>20130.0</td>\n",
       "    </tr>\n",
       "    <tr>\n",
       "      <th>2</th>\n",
       "      <td>200002</td>\n",
       "      <td>1</td>\n",
       "      <td>37.0</td>\n",
       "      <td>Self Enquiry</td>\n",
       "      <td>1</td>\n",
       "      <td>8.0</td>\n",
       "      <td>Free Lancer</td>\n",
       "      <td>Male</td>\n",
       "      <td>3</td>\n",
       "      <td>4.0</td>\n",
       "      <td>Basic</td>\n",
       "      <td>3.0</td>\n",
       "      <td>Single</td>\n",
       "      <td>7.0</td>\n",
       "      <td>1</td>\n",
       "      <td>3</td>\n",
       "      <td>0</td>\n",
       "      <td>0.0</td>\n",
       "      <td>Executive</td>\n",
       "      <td>17090.0</td>\n",
       "    </tr>\n",
       "    <tr>\n",
       "      <th>3</th>\n",
       "      <td>200003</td>\n",
       "      <td>0</td>\n",
       "      <td>33.0</td>\n",
       "      <td>Company Invited</td>\n",
       "      <td>1</td>\n",
       "      <td>9.0</td>\n",
       "      <td>Salaried</td>\n",
       "      <td>Female</td>\n",
       "      <td>2</td>\n",
       "      <td>3.0</td>\n",
       "      <td>Basic</td>\n",
       "      <td>3.0</td>\n",
       "      <td>Divorced</td>\n",
       "      <td>2.0</td>\n",
       "      <td>1</td>\n",
       "      <td>5</td>\n",
       "      <td>1</td>\n",
       "      <td>1.0</td>\n",
       "      <td>Executive</td>\n",
       "      <td>17909.0</td>\n",
       "    </tr>\n",
       "    <tr>\n",
       "      <th>4</th>\n",
       "      <td>200004</td>\n",
       "      <td>0</td>\n",
       "      <td>NaN</td>\n",
       "      <td>Self Enquiry</td>\n",
       "      <td>1</td>\n",
       "      <td>8.0</td>\n",
       "      <td>Small Business</td>\n",
       "      <td>Male</td>\n",
       "      <td>2</td>\n",
       "      <td>3.0</td>\n",
       "      <td>Basic</td>\n",
       "      <td>4.0</td>\n",
       "      <td>Divorced</td>\n",
       "      <td>1.0</td>\n",
       "      <td>0</td>\n",
       "      <td>5</td>\n",
       "      <td>1</td>\n",
       "      <td>0.0</td>\n",
       "      <td>Executive</td>\n",
       "      <td>18468.0</td>\n",
       "    </tr>\n",
       "  </tbody>\n",
       "</table>\n",
       "</div>"
      ],
      "text/plain": [
       "   CustomerID  ProdTaken   Age    TypeofContact  CityTier  DurationOfPitch  \\\n",
       "0      200000          1  41.0     Self Enquiry         3              6.0   \n",
       "1      200001          0  49.0  Company Invited         1             14.0   \n",
       "2      200002          1  37.0     Self Enquiry         1              8.0   \n",
       "3      200003          0  33.0  Company Invited         1              9.0   \n",
       "4      200004          0   NaN     Self Enquiry         1              8.0   \n",
       "\n",
       "       Occupation  Gender  NumberOfPersonVisiting  NumberOfFollowups  \\\n",
       "0        Salaried  Female                       3                3.0   \n",
       "1        Salaried    Male                       3                4.0   \n",
       "2     Free Lancer    Male                       3                4.0   \n",
       "3        Salaried  Female                       2                3.0   \n",
       "4  Small Business    Male                       2                3.0   \n",
       "\n",
       "  ProductPitched  PreferredPropertyStar MaritalStatus  NumberOfTrips  \\\n",
       "0         Deluxe                    3.0        Single            1.0   \n",
       "1         Deluxe                    4.0      Divorced            2.0   \n",
       "2          Basic                    3.0        Single            7.0   \n",
       "3          Basic                    3.0      Divorced            2.0   \n",
       "4          Basic                    4.0      Divorced            1.0   \n",
       "\n",
       "   Passport  PitchSatisfactionScore  OwnCar  NumberOfChildrenVisiting  \\\n",
       "0         1                       2       1                       0.0   \n",
       "1         0                       3       1                       2.0   \n",
       "2         1                       3       0                       0.0   \n",
       "3         1                       5       1                       1.0   \n",
       "4         0                       5       1                       0.0   \n",
       "\n",
       "  Designation  MonthlyIncome  \n",
       "0     Manager        20993.0  \n",
       "1     Manager        20130.0  \n",
       "2   Executive        17090.0  \n",
       "3   Executive        17909.0  \n",
       "4   Executive        18468.0  "
      ]
     },
     "execution_count": 48,
     "metadata": {},
     "output_type": "execute_result"
    }
   ],
   "source": [
    "df.head()"
   ]
  },
  {
   "cell_type": "code",
   "execution_count": 49,
   "id": "855f2eda-8642-4c46-8ab7-e4eaea04314d",
   "metadata": {},
   "outputs": [
    {
     "name": "stdout",
     "output_type": "stream",
     "text": [
      "<class 'pandas.core.frame.DataFrame'>\n",
      "RangeIndex: 4888 entries, 0 to 4887\n",
      "Data columns (total 20 columns):\n",
      " #   Column                    Non-Null Count  Dtype  \n",
      "---  ------                    --------------  -----  \n",
      " 0   CustomerID                4888 non-null   int64  \n",
      " 1   ProdTaken                 4888 non-null   int64  \n",
      " 2   Age                       4662 non-null   float64\n",
      " 3   TypeofContact             4863 non-null   object \n",
      " 4   CityTier                  4888 non-null   int64  \n",
      " 5   DurationOfPitch           4637 non-null   float64\n",
      " 6   Occupation                4888 non-null   object \n",
      " 7   Gender                    4888 non-null   object \n",
      " 8   NumberOfPersonVisiting    4888 non-null   int64  \n",
      " 9   NumberOfFollowups         4843 non-null   float64\n",
      " 10  ProductPitched            4888 non-null   object \n",
      " 11  PreferredPropertyStar     4862 non-null   float64\n",
      " 12  MaritalStatus             4888 non-null   object \n",
      " 13  NumberOfTrips             4748 non-null   float64\n",
      " 14  Passport                  4888 non-null   int64  \n",
      " 15  PitchSatisfactionScore    4888 non-null   int64  \n",
      " 16  OwnCar                    4888 non-null   int64  \n",
      " 17  NumberOfChildrenVisiting  4822 non-null   float64\n",
      " 18  Designation               4888 non-null   object \n",
      " 19  MonthlyIncome             4655 non-null   float64\n",
      "dtypes: float64(7), int64(7), object(6)\n",
      "memory usage: 763.9+ KB\n"
     ]
    }
   ],
   "source": [
    "df.info()"
   ]
  },
  {
   "cell_type": "code",
   "execution_count": 50,
   "id": "d4ff30d0-4f2c-49a4-a759-adf63f92b8b0",
   "metadata": {},
   "outputs": [
    {
     "data": {
      "text/plain": [
       "CustomerID                    0\n",
       "ProdTaken                     0\n",
       "Age                         226\n",
       "TypeofContact                25\n",
       "CityTier                      0\n",
       "DurationOfPitch             251\n",
       "Occupation                    0\n",
       "Gender                        0\n",
       "NumberOfPersonVisiting        0\n",
       "NumberOfFollowups            45\n",
       "ProductPitched                0\n",
       "PreferredPropertyStar        26\n",
       "MaritalStatus                 0\n",
       "NumberOfTrips               140\n",
       "Passport                      0\n",
       "PitchSatisfactionScore        0\n",
       "OwnCar                        0\n",
       "NumberOfChildrenVisiting     66\n",
       "Designation                   0\n",
       "MonthlyIncome               233\n",
       "dtype: int64"
      ]
     },
     "execution_count": 50,
     "metadata": {},
     "output_type": "execute_result"
    }
   ],
   "source": [
    "df.isnull().sum()"
   ]
  },
  {
   "cell_type": "markdown",
   "id": "bab6a51f-9e54-4ee7-803c-51ba4c242aac",
   "metadata": {},
   "source": [
    "## Data Cleaning:"
   ]
  },
  {
   "cell_type": "code",
   "execution_count": 51,
   "id": "e2d084d9-5eda-4f1a-803f-ee7b32ceb275",
   "metadata": {},
   "outputs": [
    {
     "name": "stdout",
     "output_type": "stream",
     "text": [
      "The gender column have : Gender\n",
      "Male       2916\n",
      "Female     1817\n",
      "Fe Male     155\n",
      "Name: count, dtype: int64\n",
      "The MaritalStatus column have : MaritalStatus\n",
      "Married      2340\n",
      "Divorced      950\n",
      "Single        916\n",
      "Unmarried     682\n",
      "Name: count, dtype: int64\n",
      "The TypeofContact column have : TypeofContact\n",
      "Self Enquiry       3444\n",
      "Company Invited    1419\n",
      "Name: count, dtype: int64\n"
     ]
    }
   ],
   "source": [
    "print(\"The gender column have :\",df[\"Gender\"].value_counts())\n",
    "print(\"The MaritalStatus column have :\",df[\"MaritalStatus\"].value_counts())\n",
    "print(\"The TypeofContact column have :\",df[\"TypeofContact\"].value_counts())"
   ]
  },
  {
   "cell_type": "code",
   "execution_count": 52,
   "id": "931fb67b-e87a-4259-bfcd-77606880e8fe",
   "metadata": {},
   "outputs": [],
   "source": [
    "df[\"Gender\"] = df[\"Gender\"].replace(\"Fe Male\",\"Female\")\n",
    "df[\"MaritalStatus\"] = df[\"MaritalStatus\"].replace(\"Single\",\"Unmarried\")"
   ]
  },
  {
   "cell_type": "code",
   "execution_count": 53,
   "id": "e21b10b1-8979-4898-9445-56f0932dbc0b",
   "metadata": {},
   "outputs": [
    {
     "data": {
      "text/html": [
       "<div>\n",
       "<style scoped>\n",
       "    .dataframe tbody tr th:only-of-type {\n",
       "        vertical-align: middle;\n",
       "    }\n",
       "\n",
       "    .dataframe tbody tr th {\n",
       "        vertical-align: top;\n",
       "    }\n",
       "\n",
       "    .dataframe thead th {\n",
       "        text-align: right;\n",
       "    }\n",
       "</style>\n",
       "<table border=\"1\" class=\"dataframe\">\n",
       "  <thead>\n",
       "    <tr style=\"text-align: right;\">\n",
       "      <th></th>\n",
       "      <th>CustomerID</th>\n",
       "      <th>ProdTaken</th>\n",
       "      <th>Age</th>\n",
       "      <th>TypeofContact</th>\n",
       "      <th>CityTier</th>\n",
       "      <th>DurationOfPitch</th>\n",
       "      <th>Occupation</th>\n",
       "      <th>Gender</th>\n",
       "      <th>NumberOfPersonVisiting</th>\n",
       "      <th>NumberOfFollowups</th>\n",
       "      <th>ProductPitched</th>\n",
       "      <th>PreferredPropertyStar</th>\n",
       "      <th>MaritalStatus</th>\n",
       "      <th>NumberOfTrips</th>\n",
       "      <th>Passport</th>\n",
       "      <th>PitchSatisfactionScore</th>\n",
       "      <th>OwnCar</th>\n",
       "      <th>NumberOfChildrenVisiting</th>\n",
       "      <th>Designation</th>\n",
       "      <th>MonthlyIncome</th>\n",
       "    </tr>\n",
       "  </thead>\n",
       "  <tbody>\n",
       "    <tr>\n",
       "      <th>0</th>\n",
       "      <td>200000</td>\n",
       "      <td>1</td>\n",
       "      <td>41.0</td>\n",
       "      <td>Self Enquiry</td>\n",
       "      <td>3</td>\n",
       "      <td>6.0</td>\n",
       "      <td>Salaried</td>\n",
       "      <td>Female</td>\n",
       "      <td>3</td>\n",
       "      <td>3.0</td>\n",
       "      <td>Deluxe</td>\n",
       "      <td>3.0</td>\n",
       "      <td>Unmarried</td>\n",
       "      <td>1.0</td>\n",
       "      <td>1</td>\n",
       "      <td>2</td>\n",
       "      <td>1</td>\n",
       "      <td>0.0</td>\n",
       "      <td>Manager</td>\n",
       "      <td>20993.0</td>\n",
       "    </tr>\n",
       "    <tr>\n",
       "      <th>1</th>\n",
       "      <td>200001</td>\n",
       "      <td>0</td>\n",
       "      <td>49.0</td>\n",
       "      <td>Company Invited</td>\n",
       "      <td>1</td>\n",
       "      <td>14.0</td>\n",
       "      <td>Salaried</td>\n",
       "      <td>Male</td>\n",
       "      <td>3</td>\n",
       "      <td>4.0</td>\n",
       "      <td>Deluxe</td>\n",
       "      <td>4.0</td>\n",
       "      <td>Divorced</td>\n",
       "      <td>2.0</td>\n",
       "      <td>0</td>\n",
       "      <td>3</td>\n",
       "      <td>1</td>\n",
       "      <td>2.0</td>\n",
       "      <td>Manager</td>\n",
       "      <td>20130.0</td>\n",
       "    </tr>\n",
       "    <tr>\n",
       "      <th>2</th>\n",
       "      <td>200002</td>\n",
       "      <td>1</td>\n",
       "      <td>37.0</td>\n",
       "      <td>Self Enquiry</td>\n",
       "      <td>1</td>\n",
       "      <td>8.0</td>\n",
       "      <td>Free Lancer</td>\n",
       "      <td>Male</td>\n",
       "      <td>3</td>\n",
       "      <td>4.0</td>\n",
       "      <td>Basic</td>\n",
       "      <td>3.0</td>\n",
       "      <td>Unmarried</td>\n",
       "      <td>7.0</td>\n",
       "      <td>1</td>\n",
       "      <td>3</td>\n",
       "      <td>0</td>\n",
       "      <td>0.0</td>\n",
       "      <td>Executive</td>\n",
       "      <td>17090.0</td>\n",
       "    </tr>\n",
       "    <tr>\n",
       "      <th>3</th>\n",
       "      <td>200003</td>\n",
       "      <td>0</td>\n",
       "      <td>33.0</td>\n",
       "      <td>Company Invited</td>\n",
       "      <td>1</td>\n",
       "      <td>9.0</td>\n",
       "      <td>Salaried</td>\n",
       "      <td>Female</td>\n",
       "      <td>2</td>\n",
       "      <td>3.0</td>\n",
       "      <td>Basic</td>\n",
       "      <td>3.0</td>\n",
       "      <td>Divorced</td>\n",
       "      <td>2.0</td>\n",
       "      <td>1</td>\n",
       "      <td>5</td>\n",
       "      <td>1</td>\n",
       "      <td>1.0</td>\n",
       "      <td>Executive</td>\n",
       "      <td>17909.0</td>\n",
       "    </tr>\n",
       "    <tr>\n",
       "      <th>4</th>\n",
       "      <td>200004</td>\n",
       "      <td>0</td>\n",
       "      <td>NaN</td>\n",
       "      <td>Self Enquiry</td>\n",
       "      <td>1</td>\n",
       "      <td>8.0</td>\n",
       "      <td>Small Business</td>\n",
       "      <td>Male</td>\n",
       "      <td>2</td>\n",
       "      <td>3.0</td>\n",
       "      <td>Basic</td>\n",
       "      <td>4.0</td>\n",
       "      <td>Divorced</td>\n",
       "      <td>1.0</td>\n",
       "      <td>0</td>\n",
       "      <td>5</td>\n",
       "      <td>1</td>\n",
       "      <td>0.0</td>\n",
       "      <td>Executive</td>\n",
       "      <td>18468.0</td>\n",
       "    </tr>\n",
       "  </tbody>\n",
       "</table>\n",
       "</div>"
      ],
      "text/plain": [
       "   CustomerID  ProdTaken   Age    TypeofContact  CityTier  DurationOfPitch  \\\n",
       "0      200000          1  41.0     Self Enquiry         3              6.0   \n",
       "1      200001          0  49.0  Company Invited         1             14.0   \n",
       "2      200002          1  37.0     Self Enquiry         1              8.0   \n",
       "3      200003          0  33.0  Company Invited         1              9.0   \n",
       "4      200004          0   NaN     Self Enquiry         1              8.0   \n",
       "\n",
       "       Occupation  Gender  NumberOfPersonVisiting  NumberOfFollowups  \\\n",
       "0        Salaried  Female                       3                3.0   \n",
       "1        Salaried    Male                       3                4.0   \n",
       "2     Free Lancer    Male                       3                4.0   \n",
       "3        Salaried  Female                       2                3.0   \n",
       "4  Small Business    Male                       2                3.0   \n",
       "\n",
       "  ProductPitched  PreferredPropertyStar MaritalStatus  NumberOfTrips  \\\n",
       "0         Deluxe                    3.0     Unmarried            1.0   \n",
       "1         Deluxe                    4.0      Divorced            2.0   \n",
       "2          Basic                    3.0     Unmarried            7.0   \n",
       "3          Basic                    3.0      Divorced            2.0   \n",
       "4          Basic                    4.0      Divorced            1.0   \n",
       "\n",
       "   Passport  PitchSatisfactionScore  OwnCar  NumberOfChildrenVisiting  \\\n",
       "0         1                       2       1                       0.0   \n",
       "1         0                       3       1                       2.0   \n",
       "2         1                       3       0                       0.0   \n",
       "3         1                       5       1                       1.0   \n",
       "4         0                       5       1                       0.0   \n",
       "\n",
       "  Designation  MonthlyIncome  \n",
       "0     Manager        20993.0  \n",
       "1     Manager        20130.0  \n",
       "2   Executive        17090.0  \n",
       "3   Executive        17909.0  \n",
       "4   Executive        18468.0  "
      ]
     },
     "execution_count": 53,
     "metadata": {},
     "output_type": "execute_result"
    }
   ],
   "source": [
    "df.head()"
   ]
  },
  {
   "cell_type": "markdown",
   "id": "2a734dd2-a4f2-482a-8f48-af1f5f3adb56",
   "metadata": {},
   "source": [
    "## Checking Missing Values:"
   ]
  },
  {
   "cell_type": "code",
   "execution_count": 54,
   "id": "dd0097de-633c-46f3-a56c-27df8d7dc805",
   "metadata": {},
   "outputs": [
    {
     "name": "stdout",
     "output_type": "stream",
     "text": [
      "Age: 4.62357% missing values\n",
      "TypeofContact: 0.51146% missing values\n",
      "DurationOfPitch: 5.13502% missing values\n",
      "NumberOfFollowups: 0.92062% missing values\n",
      "PreferredPropertyStar: 0.53191% missing values\n",
      "NumberOfTrips: 2.86416% missing values\n",
      "NumberOfChildrenVisiting: 1.35025% missing values\n",
      "MonthlyIncome: 4.76678% missing values\n"
     ]
    }
   ],
   "source": [
    "featurenan = [feature for feature in df.columns if df[feature].isnull().sum() >= 1]\n",
    "\n",
    "# Print the percentage of missing values for each feature\n",
    "for feature in featurenan:\n",
    "    missing_percentage = np.round(df[feature].isnull().mean() * 100, 5)\n",
    "    print(f\"{feature}: {missing_percentage}% missing values\")"
   ]
  },
  {
   "cell_type": "code",
   "execution_count": 55,
   "id": "ec901a3e-919b-47ff-a0dd-82248f1a4f62",
   "metadata": {},
   "outputs": [
    {
     "data": {
      "text/html": [
       "<div>\n",
       "<style scoped>\n",
       "    .dataframe tbody tr th:only-of-type {\n",
       "        vertical-align: middle;\n",
       "    }\n",
       "\n",
       "    .dataframe tbody tr th {\n",
       "        vertical-align: top;\n",
       "    }\n",
       "\n",
       "    .dataframe thead th {\n",
       "        text-align: right;\n",
       "    }\n",
       "</style>\n",
       "<table border=\"1\" class=\"dataframe\">\n",
       "  <thead>\n",
       "    <tr style=\"text-align: right;\">\n",
       "      <th></th>\n",
       "      <th>Age</th>\n",
       "      <th>DurationOfPitch</th>\n",
       "      <th>NumberOfFollowups</th>\n",
       "      <th>PreferredPropertyStar</th>\n",
       "      <th>NumberOfTrips</th>\n",
       "      <th>NumberOfChildrenVisiting</th>\n",
       "      <th>MonthlyIncome</th>\n",
       "    </tr>\n",
       "  </thead>\n",
       "  <tbody>\n",
       "    <tr>\n",
       "      <th>count</th>\n",
       "      <td>4662.000000</td>\n",
       "      <td>4637.000000</td>\n",
       "      <td>4843.000000</td>\n",
       "      <td>4862.000000</td>\n",
       "      <td>4748.000000</td>\n",
       "      <td>4822.000000</td>\n",
       "      <td>4655.000000</td>\n",
       "    </tr>\n",
       "    <tr>\n",
       "      <th>mean</th>\n",
       "      <td>37.622265</td>\n",
       "      <td>15.490835</td>\n",
       "      <td>3.708445</td>\n",
       "      <td>3.581037</td>\n",
       "      <td>3.236521</td>\n",
       "      <td>1.187267</td>\n",
       "      <td>23619.853491</td>\n",
       "    </tr>\n",
       "    <tr>\n",
       "      <th>std</th>\n",
       "      <td>9.316387</td>\n",
       "      <td>8.519643</td>\n",
       "      <td>1.002509</td>\n",
       "      <td>0.798009</td>\n",
       "      <td>1.849019</td>\n",
       "      <td>0.857861</td>\n",
       "      <td>5380.698361</td>\n",
       "    </tr>\n",
       "    <tr>\n",
       "      <th>min</th>\n",
       "      <td>18.000000</td>\n",
       "      <td>5.000000</td>\n",
       "      <td>1.000000</td>\n",
       "      <td>3.000000</td>\n",
       "      <td>1.000000</td>\n",
       "      <td>0.000000</td>\n",
       "      <td>1000.000000</td>\n",
       "    </tr>\n",
       "    <tr>\n",
       "      <th>25%</th>\n",
       "      <td>31.000000</td>\n",
       "      <td>9.000000</td>\n",
       "      <td>3.000000</td>\n",
       "      <td>3.000000</td>\n",
       "      <td>2.000000</td>\n",
       "      <td>1.000000</td>\n",
       "      <td>20346.000000</td>\n",
       "    </tr>\n",
       "    <tr>\n",
       "      <th>50%</th>\n",
       "      <td>36.000000</td>\n",
       "      <td>13.000000</td>\n",
       "      <td>4.000000</td>\n",
       "      <td>3.000000</td>\n",
       "      <td>3.000000</td>\n",
       "      <td>1.000000</td>\n",
       "      <td>22347.000000</td>\n",
       "    </tr>\n",
       "    <tr>\n",
       "      <th>75%</th>\n",
       "      <td>44.000000</td>\n",
       "      <td>20.000000</td>\n",
       "      <td>4.000000</td>\n",
       "      <td>4.000000</td>\n",
       "      <td>4.000000</td>\n",
       "      <td>2.000000</td>\n",
       "      <td>25571.000000</td>\n",
       "    </tr>\n",
       "    <tr>\n",
       "      <th>max</th>\n",
       "      <td>61.000000</td>\n",
       "      <td>127.000000</td>\n",
       "      <td>6.000000</td>\n",
       "      <td>5.000000</td>\n",
       "      <td>22.000000</td>\n",
       "      <td>3.000000</td>\n",
       "      <td>98678.000000</td>\n",
       "    </tr>\n",
       "  </tbody>\n",
       "</table>\n",
       "</div>"
      ],
      "text/plain": [
       "               Age  DurationOfPitch  NumberOfFollowups  PreferredPropertyStar  \\\n",
       "count  4662.000000      4637.000000        4843.000000            4862.000000   \n",
       "mean     37.622265        15.490835           3.708445               3.581037   \n",
       "std       9.316387         8.519643           1.002509               0.798009   \n",
       "min      18.000000         5.000000           1.000000               3.000000   \n",
       "25%      31.000000         9.000000           3.000000               3.000000   \n",
       "50%      36.000000        13.000000           4.000000               3.000000   \n",
       "75%      44.000000        20.000000           4.000000               4.000000   \n",
       "max      61.000000       127.000000           6.000000               5.000000   \n",
       "\n",
       "       NumberOfTrips  NumberOfChildrenVisiting  MonthlyIncome  \n",
       "count    4748.000000               4822.000000    4655.000000  \n",
       "mean        3.236521                  1.187267   23619.853491  \n",
       "std         1.849019                  0.857861    5380.698361  \n",
       "min         1.000000                  0.000000    1000.000000  \n",
       "25%         2.000000                  1.000000   20346.000000  \n",
       "50%         3.000000                  1.000000   22347.000000  \n",
       "75%         4.000000                  2.000000   25571.000000  \n",
       "max        22.000000                  3.000000   98678.000000  "
      ]
     },
     "execution_count": 55,
     "metadata": {},
     "output_type": "execute_result"
    }
   ],
   "source": [
    "df[featurenan].select_dtypes(exclude = \"object\").describe()"
   ]
  },
  {
   "cell_type": "code",
   "execution_count": 56,
   "id": "1862efdf-f639-45d2-b3dc-58e9b087c123",
   "metadata": {},
   "outputs": [],
   "source": [
    "# Fill missing values for each column\n",
    "df.Age.fillna(df.Age.median(), inplace=True)\n",
    "df.TypeofContact.fillna(df.TypeofContact.mode()[0], inplace=True)\n",
    "df.DurationOfPitch.fillna(df.DurationOfPitch.median(), inplace=True)\n",
    "df.NumberOfFollowups.fillna(df.NumberOfFollowups.mode()[0], inplace=True)\n",
    "df.PreferredPropertyStar.fillna(df.PreferredPropertyStar.mode()[0], inplace=True)\n",
    "df.NumberOfTrips.fillna(df.NumberOfTrips.median(), inplace=True)\n",
    "df.NumberOfChildrenVisiting.fillna(df.NumberOfChildrenVisiting.mode()[0], inplace=True)  # Corrected\n",
    "df.MonthlyIncome.fillna(df.MonthlyIncome.median(), inplace=True)  # Corrected"
   ]
  },
  {
   "cell_type": "code",
   "execution_count": 57,
   "id": "fa9bfe1a-3f3f-44dd-be84-2be854b63fdf",
   "metadata": {},
   "outputs": [
    {
     "data": {
      "text/plain": [
       "CustomerID                  0\n",
       "ProdTaken                   0\n",
       "Age                         0\n",
       "TypeofContact               0\n",
       "CityTier                    0\n",
       "DurationOfPitch             0\n",
       "Occupation                  0\n",
       "Gender                      0\n",
       "NumberOfPersonVisiting      0\n",
       "NumberOfFollowups           0\n",
       "ProductPitched              0\n",
       "PreferredPropertyStar       0\n",
       "MaritalStatus               0\n",
       "NumberOfTrips               0\n",
       "Passport                    0\n",
       "PitchSatisfactionScore      0\n",
       "OwnCar                      0\n",
       "NumberOfChildrenVisiting    0\n",
       "Designation                 0\n",
       "MonthlyIncome               0\n",
       "dtype: int64"
      ]
     },
     "execution_count": 57,
     "metadata": {},
     "output_type": "execute_result"
    }
   ],
   "source": [
    "df.isnull().sum()"
   ]
  },
  {
   "cell_type": "code",
   "execution_count": 58,
   "id": "2a5db8c0-0afa-4be0-af12-d6c1626b82c7",
   "metadata": {},
   "outputs": [],
   "source": [
    "df.drop(\"CustomerID\", axis = 1,inplace = True)"
   ]
  },
  {
   "cell_type": "markdown",
   "id": "a774fc93-4922-403d-a9e9-dd66348d586f",
   "metadata": {},
   "source": [
    "# Feature Engineering"
   ]
  },
  {
   "cell_type": "code",
   "execution_count": 59,
   "id": "eb745955-2b31-40bf-ac1d-73211e3bdec3",
   "metadata": {},
   "outputs": [],
   "source": [
    "df[\"TotalVisiting\"] = df[\"NumberOfPersonVisiting\"] + df[\"NumberOfChildrenVisiting\"]\n",
    "df.drop([\"NumberOfPersonVisiting\",\"NumberOfChildrenVisiting\"] , axis = 1, inplace = True)"
   ]
  },
  {
   "cell_type": "markdown",
   "id": "a8550db5-0bee-4cee-8838-41002c3e710e",
   "metadata": {},
   "source": [
    "## Feature Extraction"
   ]
  },
  {
   "cell_type": "code",
   "execution_count": 60,
   "id": "b661c07b-9e99-4289-8c19-04499e6033bc",
   "metadata": {},
   "outputs": [
    {
     "name": "stdout",
     "output_type": "stream",
     "text": [
      "Numeric Features: 12\n"
     ]
    }
   ],
   "source": [
    "numeric_features = df.select_dtypes(include=[np.number]).columns.tolist()\n",
    "print(\"Numeric Features:\", len(numeric_features))"
   ]
  },
  {
   "cell_type": "code",
   "execution_count": 61,
   "id": "87aae434-e389-4f80-9f04-9ada2ef7c0c1",
   "metadata": {},
   "outputs": [
    {
     "name": "stdout",
     "output_type": "stream",
     "text": [
      "Categorical Features: 6\n"
     ]
    }
   ],
   "source": [
    "categorical_features = df.select_dtypes(include=[object]).columns.tolist()\n",
    "print(\"Categorical Features:\", len(categorical_features))"
   ]
  },
  {
   "cell_type": "code",
   "execution_count": 62,
   "id": "01ea1dce-4844-4740-b647-a2c3613ea16e",
   "metadata": {},
   "outputs": [
    {
     "name": "stdout",
     "output_type": "stream",
     "text": [
      "Discrete Features: 9\n"
     ]
    }
   ],
   "source": [
    "discrete_features = [feature for feature in numeric_features if len(df[feature].unique()) <= 25]\n",
    "print(\"Discrete Features:\", len(discrete_features))"
   ]
  },
  {
   "cell_type": "code",
   "execution_count": 63,
   "id": "e0b22682-fae5-44c7-857e-c5b0b816f74d",
   "metadata": {},
   "outputs": [
    {
     "name": "stdout",
     "output_type": "stream",
     "text": [
      "Continuous Features: 3\n"
     ]
    }
   ],
   "source": [
    "continuous_features = [feature for feature in numeric_features if len(df[feature].unique()) > 25]\n",
    "print(\"Continuous Features:\", len(continuous_features))"
   ]
  },
  {
   "cell_type": "markdown",
   "id": "d3b267e5-4afc-4572-a4c6-68461dd6e83b",
   "metadata": {},
   "source": [
    "# Train Test Split"
   ]
  },
  {
   "cell_type": "code",
   "execution_count": 64,
   "id": "3ce11df7-a163-438e-be71-a2437da46af7",
   "metadata": {},
   "outputs": [],
   "source": [
    "from sklearn.model_selection import train_test_split\n",
    "x = df.drop([\"ProdTaken\"] , axis =1)\n",
    "y = df[\"ProdTaken\"]"
   ]
  },
  {
   "cell_type": "code",
   "execution_count": 65,
   "id": "1cba2dfe-e087-4044-b394-36ef503068dc",
   "metadata": {},
   "outputs": [],
   "source": [
    "x_train,x_test,y_train,y_test = train_test_split(x,y,test_size =0.2,random_state = 42)"
   ]
  },
  {
   "cell_type": "code",
   "execution_count": 66,
   "id": "4f4b0ffc-fb9e-4ecc-b74d-728de72db4e5",
   "metadata": {},
   "outputs": [],
   "source": [
    "# create Column Transformer with 3 types of transformer\n",
    "cat_feature = x.select_dtypes(include = \"object\").columns\n",
    "num_feature = x.select_dtypes(exclude = \"object\").columns\n",
    "from sklearn.preprocessing  import OneHotEncoder ,  StandardScaler\n",
    "from sklearn.compose import ColumnTransformer\n",
    "numeric_transformer = StandardScaler()\n",
    "oh_transfomer = OneHotEncoder()\n",
    "preprocessor =  ColumnTransformer(\n",
    "    [\n",
    "        (\"OneHotEncoder\",oh_transfomer, cat_feature),\n",
    "        (\"StandardScaler\" , numeric_transformer, num_feature)\n",
    "    ]\n",
    "        \n",
    ")"
   ]
  },
  {
   "cell_type": "code",
   "execution_count": 72,
   "id": "6231dc50-bbc2-47ac-a214-f023c7aee065",
   "metadata": {},
   "outputs": [
    {
     "data": {
      "text/plain": [
       "array([[ 0.        ,  1.        ,  0.        , ...,  0.78296635,\n",
       "        -0.38224537, -0.77415132],\n",
       "       [ 0.        ,  1.        ,  0.        , ...,  0.78296635,\n",
       "        -0.4597992 ,  0.64361526],\n",
       "       [ 0.        ,  1.        ,  0.        , ...,  0.78296635,\n",
       "        -0.24519557, -0.06526803],\n",
       "       ...,\n",
       "       [ 1.        ,  0.        ,  0.        , ...,  0.78296635,\n",
       "        -0.36057591,  0.64361526],\n",
       "       [ 0.        ,  1.        ,  0.        , ...,  0.78296635,\n",
       "        -0.25279888,  0.64361526],\n",
       "       [ 1.        ,  0.        ,  0.        , ..., -1.2771941 ,\n",
       "        -1.08251091, -1.48303461]])"
      ]
     },
     "execution_count": 72,
     "metadata": {},
     "output_type": "execute_result"
    }
   ],
   "source": [
    "x_train"
   ]
  },
  {
   "cell_type": "code",
   "execution_count": 68,
   "id": "af3e2cfa-38d8-4d88-9ab9-97db91b19c5f",
   "metadata": {},
   "outputs": [],
   "source": [
    "x_train = preprocessor.fit_transform(x_train)\n",
    "x_test = preprocessor.transform(x_test)"
   ]
  },
  {
   "cell_type": "markdown",
   "id": "4269dadc-d307-41b9-88b9-3615d4fc54d8",
   "metadata": {},
   "source": [
    "## Random Forest CLassifier"
   ]
  },
  {
   "cell_type": "code",
   "execution_count": 86,
   "id": "24be8352-95e4-4956-ace1-7d2ebd5e9609",
   "metadata": {},
   "outputs": [],
   "source": [
    "from sklearn.ensemble import RandomForestClassifier\n",
    "from sklearn.tree import DecisionTreeClassifier\n",
    "from sklearn.linear_model import LogisticRegression\n",
    "from sklearn.metrics import (\n",
    "    accuracy_score,\n",
    "    precision_score,\n",
    "    recall_score,\n",
    "    f1_score,\n",
    "    confusion_matrix,\n",
    "    roc_auc_score,\n",
    "    mean_squared_error,\n",
    "    mean_absolute_error,\n",
    "    r2_score,\n",
    "    classification_report,\n",
    "    roc_curve\n",
    ")"
   ]
  },
  {
   "cell_type": "markdown",
   "id": "683ae1d1-8bf1-4d6e-858f-1578f90f588f",
   "metadata": {},
   "source": [
    "###### Efficient way to train the model using difffernet model"
   ]
  },
  {
   "cell_type": "code",
   "execution_count": 88,
   "id": "93c0d870-da27-474a-a59e-63c13b166723",
   "metadata": {},
   "outputs": [
    {
     "name": "stdout",
     "output_type": "stream",
     "text": [
      "Logistic Regression\n",
      "-----------Metrics for Train Data------------\n",
      "Training Set Accuracy: 0.8463\n",
      "Training Set Precision: 0.7013\n",
      "Training Set Recall: 0.3059\n",
      "Training Set F1 Score: 0.8208\n",
      "Training Set Roc Auc Score: 0.6380\n",
      "-----------Metrics for Test Data------------\n",
      "Test Set Accuracy: 0.8354\n",
      "Test Set Precision: 0.6829\n",
      "Test Set Recall: 0.2932\n",
      "Test Set F1 Score: 0.8078\n",
      "Test Set Roc Auc Score: 0.6301\n",
      "\n",
      "Decision Tree\n",
      "-----------Metrics for Train Data------------\n",
      "Training Set Accuracy: 1.0000\n",
      "Training Set Precision: 1.0000\n",
      "Training Set Recall: 1.0000\n",
      "Training Set F1 Score: 1.0000\n",
      "Training Set Roc Auc Score: 1.0000\n",
      "-----------Metrics for Test Data------------\n",
      "Test Set Accuracy: 0.9233\n",
      "Test Set Precision: 0.8053\n",
      "Test Set Recall: 0.8010\n",
      "Test Set F1 Score: 0.9232\n",
      "Test Set Roc Auc Score: 0.8770\n",
      "\n",
      "Random Forest\n",
      "-----------Metrics for Train Data------------\n",
      "Training Set Accuracy: 1.0000\n",
      "Training Set Precision: 1.0000\n",
      "Training Set Recall: 1.0000\n",
      "Training Set F1 Score: 1.0000\n",
      "Training Set Roc Auc Score: 1.0000\n",
      "-----------Metrics for Test Data------------\n",
      "Test Set Accuracy: 0.9254\n",
      "Test Set Precision: 0.9758\n",
      "Test Set Recall: 0.6335\n",
      "Test Set F1 Score: 0.9189\n",
      "Test Set Roc Auc Score: 0.8148\n",
      "\n"
     ]
    }
   ],
   "source": [
    "models = {\n",
    "    \"Logistic Regression\": LogisticRegression(),\n",
    "    \"Decision Tree\": DecisionTreeClassifier(),\n",
    "    \"Random Forest\": RandomForestClassifier()\n",
    "}\n",
    "for i in range(len(list(models))):\n",
    "                        model= list(models.values())[i]\n",
    "                        model.fit(x_train,y_train)\n",
    "                        # Make Prediction\n",
    "                        y_train_pred = model.predict(x_train)\n",
    "                        y_test_pred = model.predict(x_test)\n",
    "                        is_binary = len(np.unique(y_train)) == 2\n",
    "                        # Training set Preformance\n",
    "                        model_train_accuracy = accuracy_score(y_train, y_train_pred)\n",
    "                        model_train_precision = precision_score(y_train, y_train_pred, average='binary' if is_binary else 'macro')\n",
    "                        model_train_recall = recall_score(y_train, y_train_pred, average='binary' if is_binary else 'macro')\n",
    "                        model_train_f1 = f1_score(y_train, y_train_pred, average=\"weighted\")\n",
    "                        model_train_roc = roc_auc_score(y_train,y_train_pred)\n",
    "                            \n",
    "                            # Calculate metrics for the test set\n",
    "                        model_test_accuracy = accuracy_score(y_test, y_test_pred)\n",
    "                        model_test_precision = precision_score(y_test, y_test_pred, average='binary' if is_binary else 'macro')\n",
    "                        model_test_recall = recall_score(y_test, y_test_pred, average='binary' if is_binary else 'macro')\n",
    "                        model_test_f1 = f1_score(y_test, y_test_pred, average=\"weighted\")\n",
    "                        model_test_roc = roc_auc_score(y_test,y_test_pred)\n",
    "                            \n",
    "                            # Print results\n",
    "                        print(list(models.keys())[i])\n",
    "                        print(\"-----------Metrics for Train Data------------\" ) \n",
    "                        print(f\"Training Set Accuracy: {model_train_accuracy:.4f}\")\n",
    "                        print(f\"Training Set Precision: {model_train_precision:.4f}\")\n",
    "                        print(f\"Training Set Recall: {model_train_recall:.4f}\")\n",
    "                        print(f\"Training Set F1 Score: {model_train_f1:.4f}\")\n",
    "                        print(f\"Training Set Roc Auc Score: {model_train_roc:.4f}\")\n",
    "                        print(\"-----------Metrics for Test Data------------\" ) \n",
    "                        print(f\"Test Set Accuracy: {model_test_accuracy:.4f}\")\n",
    "                        print(f\"Test Set Precision: {model_test_precision:.4f}\")\n",
    "                        print(f\"Test Set Recall: {model_test_recall:.4f}\")\n",
    "                        print(f\"Test Set F1 Score: {model_test_f1:.4f}\")\n",
    "                        print(f\"Test Set Roc Auc Score: {model_test_roc:.4f}\")\n",
    "                        print()"
   ]
  },
  {
   "cell_type": "markdown",
   "id": "6e854b19-46b0-411c-9fe9-445d1b6378aa",
   "metadata": {},
   "source": [
    "##### If i donot specify  average='binary' if is_binary else 'macro' then defualt behaviour will be aplied which is marco in case of multiclass and binary in case of binary class"
   ]
  },
  {
   "cell_type": "markdown",
   "id": "86865c13-c037-4f82-94ae-20ec5b6747dd",
   "metadata": {},
   "source": [
    "# HyperParameter Tunning"
   ]
  },
  {
   "cell_type": "code",
   "execution_count": 98,
   "id": "bafa47a5-bdc4-4f83-8e18-757ee71c1be4",
   "metadata": {},
   "outputs": [],
   "source": [
    "#Define the parameter grid\n",
    "param_grid = {\n",
    "   'criterion' : [\"gini\", \"entropy\", \"log_loss\"],\n",
    "    \"n_estimators\" : [ 10, 20,50 ,100],\n",
    "    'max_features' : [\"sqrt\", \"log2\", None],\n",
    "    'bootstrap': [True, False],\n",
    "    \"max_depth\" :  [None, 10, 20, 30],\n",
    "    'min_samples_split': [2, 3, 4, 6, 7, 8, 12, 15],\n",
    "    'min_samples_leaf': [1, 2, 4,3, 5, 6, 8, 10]\n",
    "}"
   ]
  },
  {
   "cell_type": "code",
   "execution_count": 99,
   "id": "beb7e731-c4fb-4c2f-8fd5-70cf0cefd594",
   "metadata": {},
   "outputs": [],
   "source": [
    "randomcv_model = [\n",
    "    ( \"RF\" , RandomForestClassifier() , param_grid),\n",
    "]"
   ]
  },
  {
   "cell_type": "markdown",
   "id": "ed50c54a-35c3-4195-9f44-bb9c759cd293",
   "metadata": {},
   "source": [
    "##### Randomized search cv"
   ]
  },
  {
   "cell_type": "code",
   "execution_count": 100,
   "id": "85a1187d-56b3-438e-8d4f-90814e3a23af",
   "metadata": {},
   "outputs": [
    {
     "name": "stdout",
     "output_type": "stream",
     "text": [
      "Fitting 3 folds for each of 100 candidates, totalling 300 fits\n",
      "----------------------------Best Params forn_estimators--------------\n",
      "100\n",
      "----------------------------Best Params formin_samples_split--------------\n",
      "2\n",
      "----------------------------Best Params formin_samples_leaf--------------\n",
      "1\n",
      "----------------------------Best Params formax_features--------------\n",
      "sqrt\n",
      "----------------------------Best Params formax_depth--------------\n",
      "None\n",
      "----------------------------Best Params forcriterion--------------\n",
      "gini\n",
      "----------------------------Best Params forbootstrap--------------\n",
      "False\n"
     ]
    }
   ],
   "source": [
    "from sklearn.model_selection import RandomizedSearchCV\n",
    "model_param = {}\n",
    "for name,model,params in randomcv_model:\n",
    "    random = RandomizedSearchCV(estimator = model,\n",
    "                                param_distributions = param_grid,\n",
    "                                n_iter = 100,\n",
    "                                cv=3,\n",
    "                                verbose = 2,\n",
    "                                n_jobs = -1)\n",
    "    random.fit(x_train,y_train)\n",
    "    model_param = random.best_params_\n",
    "for model_name in model_param:\n",
    "    print(f\"----------------------------Best Params for{model_name}--------------\"),\n",
    "    print(model_param[model_name])\n",
    "    \n",
    "    "
   ]
  },
  {
   "cell_type": "code",
   "execution_count": 101,
   "id": "dd9c6da4-801d-4104-b691-a9332ea0300f",
   "metadata": {},
   "outputs": [
    {
     "name": "stdout",
     "output_type": "stream",
     "text": [
      "Random Forest\n",
      "-----------Metrics for Train Data------------\n",
      "Training Set Accuracy: 1.0000\n",
      "Training Set Precision: 1.0000\n",
      "Training Set Recall: 1.0000\n",
      "Training Set F1 Score: 1.0000\n",
      "Training Set Roc Auc Score: 1.0000\n",
      "-----------Metrics for Test Data------------\n",
      "Test Set Accuracy: 0.9509\n",
      "Test Set Precision: 0.9864\n",
      "Test Set Recall: 0.7592\n",
      "Test Set F1 Score: 0.9484\n",
      "Test Set Roc Auc Score: 0.8783\n",
      "\n"
     ]
    }
   ],
   "source": [
    "models = {\n",
    "    \"Random Forest\": RandomForestClassifier(n_estimators = 100 ,min_samples_split =2,min_samples_leaf = 1,max_features =\"sqrt\", criterion =\"gini\" , bootstrap=False )\n",
    "}\n",
    "for i in range(len(list(models))):\n",
    "                        model= list(models.values())[i]\n",
    "                        model.fit(x_train,y_train)\n",
    "                        # Make Prediction\n",
    "                        y_train_pred = model.predict(x_train)\n",
    "                        y_test_pred = model.predict(x_test)\n",
    "                        is_binary = len(np.unique(y_train)) == 2\n",
    "                        # Training set Preformance\n",
    "                        model_train_accuracy = accuracy_score(y_train, y_train_pred)\n",
    "                        model_train_precision = precision_score(y_train, y_train_pred, average='binary' if is_binary else 'macro')\n",
    "                        model_train_recall = recall_score(y_train, y_train_pred, average='binary' if is_binary else 'macro')\n",
    "                        model_train_f1 = f1_score(y_train, y_train_pred, average=\"weighted\")\n",
    "                        model_train_roc = roc_auc_score(y_train,y_train_pred)\n",
    "                            \n",
    "                            # Calculate metrics for the test set\n",
    "                        model_test_accuracy = accuracy_score(y_test, y_test_pred)\n",
    "                        model_test_precision = precision_score(y_test, y_test_pred, average='binary' if is_binary else 'macro')\n",
    "                        model_test_recall = recall_score(y_test, y_test_pred, average='binary' if is_binary else 'macro')\n",
    "                        model_test_f1 = f1_score(y_test, y_test_pred, average=\"weighted\")\n",
    "                        model_test_roc = roc_auc_score(y_test,y_test_pred)\n",
    "                            \n",
    "                            # Print results\n",
    "                        print(list(models.keys())[i])\n",
    "                        print(\"-----------Metrics for Train Data------------\" ) \n",
    "                        print(f\"Training Set Accuracy: {model_train_accuracy:.4f}\")\n",
    "                        print(f\"Training Set Precision: {model_train_precision:.4f}\")\n",
    "                        print(f\"Training Set Recall: {model_train_recall:.4f}\")\n",
    "                        print(f\"Training Set F1 Score: {model_train_f1:.4f}\")\n",
    "                        print(f\"Training Set Roc Auc Score: {model_train_roc:.4f}\")\n",
    "                        print(\"-----------Metrics for Test Data------------\" ) \n",
    "                        print(f\"Test Set Accuracy: {model_test_accuracy:.4f}\")\n",
    "                        print(f\"Test Set Precision: {model_test_precision:.4f}\")\n",
    "                        print(f\"Test Set Recall: {model_test_recall:.4f}\")\n",
    "                        print(f\"Test Set F1 Score: {model_test_f1:.4f}\")\n",
    "                        print(f\"Test Set Roc Auc Score: {model_test_roc:.4f}\")\n",
    "                        print()"
   ]
  },
  {
   "cell_type": "markdown",
   "id": "9988290e-6a9e-46d8-b0aa-02dcb3772fd0",
   "metadata": {},
   "source": [
    "#### Roc auc Curve and Roc Curve"
   ]
  },
  {
   "cell_type": "code",
   "execution_count": 109,
   "id": "afc62031-dc67-4b96-90c0-d7ea9398d979",
   "metadata": {},
   "outputs": [
    {
     "data": {
      "image/png": "[encoded data removed]",
      "text/plain": [
       "<Figure size 640x480 with 1 Axes>"
      ]
     },
     "metadata": {},
     "output_type": "display_data"
    }
   ],
   "source": [
    "from sklearn.metrics import roc_curve, roc_auc_score\n",
    "import matplotlib.pyplot as plt\n",
    "import numpy as np\n",
    "\n",
    "plt.figure()\n",
    "\n",
    "# Add the model to the list that you want to view\n",
    "auc_models = [\n",
    "    {\n",
    "        \"label\": \"RandomForestClassifier\",\n",
    "        \"model\": RandomForestClassifier(n_estimators=100, min_samples_split=2, min_samples_leaf=1, max_features=\"sqrt\", criterion=\"gini\", bootstrap=False),\n",
    "        \"auc\": 0.8783  # This is a placeholder; actual AUC should be computed\n",
    "    }\n",
    "]\n",
    "\n",
    "# Loop through each model\n",
    "for algo in auc_models:\n",
    "    model = algo[\"model\"]  # select the model\n",
    "    model.fit(x_train, y_train)\n",
    "    \n",
    "    # Compute false positive rate (fpr) and true positive rate (tpr)\n",
    "    fpr, tpr, _ = roc_curve(y_test, model.predict_proba(x_test)[:, 1])  # Use x_test, and get the probabilities for the positive class\n",
    "\n",
    "    # Calculate the AUC score\n",
    "    auc_score = roc_auc_score(y_test, model.predict_proba(x_test)[:, 1])\n",
    "\n",
    "    # Plot ROC curve\n",
    "    plt.plot(fpr, tpr, label=\"%s ROC (AUC = %0.2f)\" % (algo[\"label\"], auc_score))\n",
    "\n",
    "# Custom settings for the plot\n",
    "plt.plot([0, 1], [0, 1], \"r--\")\n",
    "plt.xlim([0.0, 1.0])\n",
    "plt.ylim([0.0, 1.05])\n",
    "plt.xlabel(\"1 - Specificity (False Positive Rate)\")\n",
    "plt.ylabel(\"Sensitivity (True Positive Rate)\")\n",
    "plt.legend(loc=\"lower right\")\n",
    "plt.savefig(\"auc.png\")\n",
    "plt.show()\n"
   ]
  },
  {
   "cell_type": "markdown",
   "id": "abd21186-6ba1-4810-87c3-fda1b8b56e69",
   "metadata": {},
   "source": [
    "This tells that 99% of area is covered with RandomForest"
   ]
  },
  {
   "cell_type": "code",
   "execution_count": null,
   "id": "105d7ae5-965b-40a9-a145-3f21294d037d",
   "metadata": {},
   "outputs": [],
   "source": []
  }
 ],
 "metadata": {
  "kernelspec": {
   "display_name": "Python 3 (ipykernel)",
   "language": "python",
   "name": "python3"
  },
  "language_info": {
   "codemirror_mode": {
    "name": "ipython",
    "version": 3
   },
   "file_extension": ".py",
   "mimetype": "text/x-python",
   "name": "python",
   "nbconvert_exporter": "python",
   "pygments_lexer": "ipython3",
   "version": "3.12.4"
  }
 },
 "nbformat": 4,
 "nbformat_minor": 5
}
